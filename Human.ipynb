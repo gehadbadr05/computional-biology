{
 "cells": [
  {
   "cell_type": "code",
   "execution_count": 2,
   "id": "6a6552ff",
   "metadata": {},
   "outputs": [],
   "source": [
    "from pyopenms import *"
   ]
  },
  {
   "cell_type": "code",
   "execution_count": 3,
   "id": "7c992e43",
   "metadata": {},
   "outputs": [
    {
     "name": "stdout",
     "output_type": "stream",
     "text": [
      "MIQAQESITLEDVAVDFTWEEWQLLGAAQK\n",
      "DLYR\n",
      "DVMLENYSNLVAVGYQASKPDALFK\n",
      "LEQGEQLWTIEDGIHSGACSDIWK\n",
      "VDHVLER\n",
      "LQSESLVNR\n",
      "R\n",
      "KPCHEHDAFENIVHCSK\n",
      "SQFLLGQNHDIFDLR\n",
      "GK\n",
      "SLK\n",
      "SNLTLVNQSK\n",
      "GYEIK\n",
      "NSVEFTGNGDSFLHANHER\n",
      "LHTAIK\n",
      "FPASQK\n",
      "LISTK\n",
      "SQFISPK\n",
      "HQK\n",
      "TR\n",
      "K\n",
      "LEK\n",
      "HHVCSECGK\n",
      "AFIK\n",
      "K\n",
      "SWLTDHQVMHTGEKPHR\n",
      "CSLCEK\n",
      "AFSR\n",
      "K\n",
      "FMLTEHQR\n",
      "THTGEKPYECPECGK\n",
      "AFLK\n",
      "K\n",
      "SR\n",
      "LNIHQK\n",
      "THTGEKPYICSECGK\n",
      "GFIQK\n",
      "GNLIVHQR\n",
      "IHTGEKPYICNECGK\n",
      "GFIQK\n",
      "TCLIAHQR\n",
      "FHTGK\n",
      "TPFVCSECGK\n",
      "SCSQK\n",
      "SGLIK\n",
      "HQR\n",
      "IHTGEKPFECSECGK\n",
      "AFSTK\n",
      "QK\n",
      "LIVHQR\n",
      "THTGERPYGCNECGK\n",
      "AFAYMSCLVK\n",
      "HK\n",
      "R\n",
      "IHTR\n",
      "EK\n",
      "QEAAK\n",
      "VENPPAER\n",
      "HSSLHTSDVMQEK\n",
      "NSANGATTQVPSVAPQTSLNISGLLANR\n",
      "NVVLVGQPVVR\n",
      "CAASGDNR\n",
      "GFAQDR\n",
      "NLVNAVNVVVPSVINYVLFYVTENP\n"
     ]
    }
   ],
   "source": [
    "dig = ProteaseDigestion()\n",
    "dig.getEnzymeName()\n",
    "sample = \"\".join([l.strip()\n",
    "for l in open(\"uniprot-yourlist_M202112125BF3C56A578D7D6DFD1FC81EE5DA773035EB8DF.fasta\").readlines()[1:]])\n",
    "sample = AASequence.fromString(sample)\n",
    "result = []\n",
    "dig.digest(sample, result)\n",
    "for i in result:\n",
    "    print(i)"
   ]
  },
  {
   "cell_type": "code",
   "execution_count": null,
   "id": "89aa4691",
   "metadata": {},
   "outputs": [],
   "source": []
  },
  {
   "cell_type": "code",
   "execution_count": null,
   "id": "4b6aed30",
   "metadata": {},
   "outputs": [],
   "source": []
  }
 ],
 "metadata": {
  "kernelspec": {
   "display_name": "Python 3",
   "language": "python",
   "name": "python3"
  },
  "language_info": {
   "codemirror_mode": {
    "name": "ipython",
    "version": 3
   },
   "file_extension": ".py",
   "mimetype": "text/x-python",
   "name": "python",
   "nbconvert_exporter": "python",
   "pygments_lexer": "ipython3",
   "version": "3.8.8"
  }
 },
 "nbformat": 4,
 "nbformat_minor": 5
}
