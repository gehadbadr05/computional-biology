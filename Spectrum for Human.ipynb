{
 "cells": [
  {
   "cell_type": "code",
   "execution_count": 4,
   "id": "888c32c1",
   "metadata": {},
   "outputs": [
    {
     "name": "stdout",
     "output_type": "stream",
     "text": [
      "53\n"
     ]
    },
    {
     "data": {
      "image/png": "[encoded data removed]",
      "text/plain": [
       "<Figure size 432x288 with 1 Axes>"
      ]
     },
     "metadata": {
      "needs_background": "light"
     },
     "output_type": "display_data"
    }
   ],
   "source": [
    "from pyopenms import *\n",
    "import matplotlib.pyplot as plt\n",
    "dig = ProteaseDigestion()\n",
    "dig.getEnzymeName() # Trypsin\n",
    "bsa = \"\".join([l.strip() for l in open(\"uniprot-yourlist_M202112174ABAA9BC7178C81CEBC9459510EDDEA3373367B.fasta\").readlines()[1:]])\n",
    "bsa = AASequence.fromString(bsa)\n",
    "# create all digestion products\n",
    "result = []\n",
    "dig.digest(bsa, result)\n",
    "print(len(result))\n",
    "for i in result:\n",
    "  Theoretical_Spectrum_Generator = TheoreticalSpectrumGenerator()\n",
    "  spectrum= MSSpectrum()\n",
    "  param = Param()\n",
    "  param.setValue(\"add_b_ions\", \"true\")\n",
    "  param.setValue(\"add_metainfo\", \"true\")\n",
    "  Theoretical_Spectrum_Generator.setParameters(param)\n",
    "  Theoretical_Spectrum_Generator.getSpectrum(spectrum, i, 1, 1)\n",
    "  plt.bar(spectrum.get_peaks()[0], spectrum.get_peaks()[1], snap=False)\n",
    "  plt.xlabel(\"m/z\")\n",
    "  plt.ylabel(\"intensity\")\n",
    "    "
   ]
  },
  {
   "cell_type": "code",
   "execution_count": 5,
   "id": "f3f2e197",
   "metadata": {},
   "outputs": [
    {
     "data": {
      "text/plain": [
       "Text(0, 0.5, 'intensity')"
      ]
     },
     "execution_count": 5,
     "metadata": {},
     "output_type": "execute_result"
    },
    {
     "data": {
      "image/png": "[encoded data removed]",
      "text/plain": [
       "<Figure size 432x288 with 1 Axes>"
      ]
     },
     "metadata": {
      "needs_background": "light"
     },
     "output_type": "display_data"
    }
   ],
   "source": [
    "Theoretical_Spectrum_Generator = TheoreticalSpectrumGenerator()\n",
    "spectrum= MSSpectrum()\n",
    "param = Param()\n",
    "param.setValue(\"add_b_ions\", \"true\")\n",
    "param.setValue(\"add_metainfo\", \"true\")\n",
    "Theoretical_Spectrum_Generator.setParameters(param)\n",
    "Theoretical_Spectrum_Generator.getSpectrum(spectrum,result[1], 1, 1)\n",
    "plt.bar(spectrum.get_peaks()[0], spectrum.get_peaks()[1], snap=False)\n",
    "plt.xlabel(\"m/z\")\n",
    "plt.ylabel(\"intensity\")"
   ]
  },
  {
   "cell_type": "code",
   "execution_count": null,
   "id": "59f3fd99",
   "metadata": {},
   "outputs": [],
   "source": []
  }
 ],
 "metadata": {
  "kernelspec": {
   "display_name": "Python 3",
   "language": "python",
   "name": "python3"
  },
  "language_info": {
   "codemirror_mode": {
    "name": "ipython",
    "version": 3
   },
   "file_extension": ".py",
   "mimetype": "text/x-python",
   "name": "python",
   "nbconvert_exporter": "python",
   "pygments_lexer": "ipython3",
   "version": "3.8.8"
  }
 },
 "nbformat": 4,
 "nbformat_minor": 5
}
